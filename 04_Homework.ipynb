{
 "cells": [
  {
   "cell_type": "markdown",
   "metadata": {},
   "source": [
    "## Background\n",
    "\n",
    "We are interested in creating a database containing information about the children sequenced in the 1000 Genomes Project.  A requirements analysis of the 1000 Genomes sample data file (`data/1000GenomesPedigreeInformation.txt`), generated the below ER diagram, which is incomplete.\n",
    "\n",
    "![](docs/image/er_homework.png)\n",
    "\n",
    "along with the following list of specific questions to be asked of the data:\n",
    "\n",
    "1. List the total number of children sequenced in the 1000 Genomes Project  \n",
    "2. List the sample name, family name, population name, and gender for \"NA19100\"\n",
    "3. List all children samples which do not have either a mother and/or father listed\n",
    "4. List the total number of families in our database\n",
    "5. List all distinct populations represented in our database\n",
    "6. List the number of families represented in each population in our database\n",
    "\n",
    "## Your Assignment\n",
    "\n",
    "Using the information generated from the requirement analysis, \n",
    "\n",
    "1. design, implement, and load the required data in the relational database described. Note that you will have to decide which fields belong to which tables.\n",
    "\n",
    "Carefully consider and integrate the concepts of integrity constraints and database normalization during your design.  Please provide all SQL statements (i.e., CREATE, SELECT, and LOAD statements). \n",
    "\n",
    "Note that you may have to clean the data to ensure the tables have integrity. You can do this within SQL, python, or R.\n",
    "\n",
    "2. Answer the above questions using SQL queries.\n",
    "\n",
    "## How to Submit\n",
    "\n",
    "Please submit your `.ipynb` file into the submissions folder with the following name formatting: `04_Homework_<LASTNAME>.ipynb`."
   ]
  },
  {
   "cell_type": "code",
   "execution_count": null,
   "metadata": {},
   "outputs": [],
   "source": []
  }
 ],
 "metadata": {
  "kernelspec": {
   "display_name": "Python 3",
   "language": "python",
   "name": "python3"
  },
  "language_info": {
   "codemirror_mode": {
    "name": "ipython",
    "version": 3
   },
   "file_extension": ".py",
   "mimetype": "text/x-python",
   "name": "python",
   "nbconvert_exporter": "python",
   "pygments_lexer": "ipython3",
   "version": "3.7.4"
  }
 },
 "nbformat": 4,
 "nbformat_minor": 2
}
