{
 "cells": [
  {
   "cell_type": "markdown",
   "metadata": {},
   "source": [
    "- In databases, there is a standard called [ACID](https://en.wikipedia.org/wiki/ACID)\n",
    "        `- atomicity\n",
    "         - consistency \n",
    "         - isolation \n",
    "         - durability"
   ]
  },
  {
   "cell_type": "markdown",
   "metadata": {},
   "source": [
    "# Data Modeling\n",
    "\n",
    "Data modeling is the process of understanding the relationships between the different data types in a model. We need to understand the actual ways that the data naturally groups and depends on each other.\n",
    "\n",
    "For example, for a set of customers who order food. We could have everything in a single table:\n",
    "\n",
    "But it doesn't make sense to model it this way, because there is data that doesn't actually group together.\n",
    "\n",
    "What about having a `customers` table and an `orders` Table?\n",
    "\n",
    "The type of info in the `customers` table:\n",
    "\n",
    "```\n",
    "- customer_id\n",
    "- name\n",
    "- address\n",
    "- phone Number\n",
    "```\n",
    "\n",
    "The type of info in the `orders` table:\n",
    "\n",
    "```\n",
    "- customer_id\n",
    "- order_id\n",
    "- order_time\n",
    "- order_date\n",
    "- item_ordered\n",
    "- delivery_time\n",
    "- item_delivered\n",
    "```"
   ]
  },
  {
   "cell_type": "markdown",
   "metadata": {},
   "source": [
    "# What datatype for these columns?\n",
    "\n",
    "One thing about databases: they take up a lot of disk space.\n",
    "\n",
    "There are "
   ]
  },
  {
   "cell_type": "code",
   "execution_count": null,
   "metadata": {},
   "outputs": [],
   "source": []
  }
 ],
 "metadata": {
  "kernelspec": {
   "display_name": "Python 3",
   "language": "python",
   "name": "python3"
  },
  "language_info": {
   "codemirror_mode": {
    "name": "ipython",
    "version": 3
   },
   "file_extension": ".py",
   "mimetype": "text/x-python",
   "name": "python",
   "nbconvert_exporter": "python",
   "pygments_lexer": "ipython3",
   "version": "3.7.4"
  }
 },
 "nbformat": 4,
 "nbformat_minor": 2
}
